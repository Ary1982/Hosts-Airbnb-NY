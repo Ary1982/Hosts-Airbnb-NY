{
 "cells": [
  {
   "cell_type": "code",
   "execution_count": 26,
   "metadata": {},
   "outputs": [],
   "source": [
    "# Tratamiento de datos\n",
    "# -----------------------------------------------------------------------\n",
    "import pandas as pd\n",
    "import numpy as np\n",
    "\n",
    "# Imputación de nulos usando métodos avanzados estadísticos\n",
    "# -----------------------------------------------------------------------\n",
    "from sklearn.impute import SimpleImputer\n",
    "from sklearn.experimental import enable_iterative_imputer\n",
    "from sklearn.impute import IterativeImputer\n",
    "from sklearn.impute import KNNImputer\n",
    "\n",
    "# Librerías de visualización\n",
    "# -----------------------------------------------------------------------\n",
    "import seaborn as sns\n",
    "import matplotlib.pyplot as plt\n",
    "# Configuración\n",
    "# -----------------------------------------------------------------------\n",
    "pd.set_option('display.max_columns', None) # para poder visualizar todas las columnas de los DataFrames\n",
    "\n",
    "# Evaluar linealidad de las relaciones entre las variables\n",
    "# -----------------------------------------------------------------------\n",
    "from scipy.stats import shapiro, kstest\n",
    "from itertools import combinations"
   ]
  },
  {
   "cell_type": "code",
   "execution_count": 27,
   "metadata": {},
   "outputs": [],
   "source": [
    "df = pd.read_excel('airbnb.xlsx')"
   ]
  },
  {
   "cell_type": "code",
   "execution_count": 28,
   "metadata": {},
   "outputs": [
    {
     "name": "stdout",
     "output_type": "stream",
     "text": [
      "Tamaño del dataset:\n",
      "Filas: 30478, Columnas: 13\n",
      "\n",
      "Primeras 5 filas:\n"
     ]
    },
    {
     "data": {
      "text/html": [
       "<div>\n",
       "<style scoped>\n",
       "    .dataframe tbody tr th:only-of-type {\n",
       "        vertical-align: middle;\n",
       "    }\n",
       "\n",
       "    .dataframe tbody tr th {\n",
       "        vertical-align: top;\n",
       "    }\n",
       "\n",
       "    .dataframe thead th {\n",
       "        text-align: right;\n",
       "    }\n",
       "</style>\n",
       "<table border=\"1\" class=\"dataframe\">\n",
       "  <thead>\n",
       "    <tr style=\"text-align: right;\">\n",
       "      <th></th>\n",
       "      <th>Host Id</th>\n",
       "      <th>Host Since</th>\n",
       "      <th>Name</th>\n",
       "      <th>Neighbourhood</th>\n",
       "      <th>Property Type</th>\n",
       "      <th>Review Scores Rating (bin)</th>\n",
       "      <th>Room Type</th>\n",
       "      <th>Zipcode</th>\n",
       "      <th>Beds</th>\n",
       "      <th>Number of Records</th>\n",
       "      <th>Number Of Reviews</th>\n",
       "      <th>Price</th>\n",
       "      <th>Review Scores Rating</th>\n",
       "    </tr>\n",
       "  </thead>\n",
       "  <tbody>\n",
       "    <tr>\n",
       "      <th>0</th>\n",
       "      <td>5162530</td>\n",
       "      <td>NaT</td>\n",
       "      <td>1 Bedroom in Prime Williamsburg</td>\n",
       "      <td>Brooklyn</td>\n",
       "      <td>Apartment</td>\n",
       "      <td>NaN</td>\n",
       "      <td>Entire home/apt</td>\n",
       "      <td>11249.0</td>\n",
       "      <td>1.0</td>\n",
       "      <td>1</td>\n",
       "      <td>0</td>\n",
       "      <td>145</td>\n",
       "      <td>NaN</td>\n",
       "    </tr>\n",
       "    <tr>\n",
       "      <th>1</th>\n",
       "      <td>33134899</td>\n",
       "      <td>NaT</td>\n",
       "      <td>Sunny, Private room in Bushwick</td>\n",
       "      <td>Brooklyn</td>\n",
       "      <td>Apartment</td>\n",
       "      <td>NaN</td>\n",
       "      <td>Private room</td>\n",
       "      <td>11206.0</td>\n",
       "      <td>1.0</td>\n",
       "      <td>1</td>\n",
       "      <td>1</td>\n",
       "      <td>37</td>\n",
       "      <td>NaN</td>\n",
       "    </tr>\n",
       "    <tr>\n",
       "      <th>2</th>\n",
       "      <td>39608626</td>\n",
       "      <td>NaT</td>\n",
       "      <td>Sunny Room in Harlem</td>\n",
       "      <td>Manhattan</td>\n",
       "      <td>Apartment</td>\n",
       "      <td>NaN</td>\n",
       "      <td>Private room</td>\n",
       "      <td>10032.0</td>\n",
       "      <td>1.0</td>\n",
       "      <td>1</td>\n",
       "      <td>1</td>\n",
       "      <td>28</td>\n",
       "      <td>NaN</td>\n",
       "    </tr>\n",
       "    <tr>\n",
       "      <th>3</th>\n",
       "      <td>500</td>\n",
       "      <td>2008-06-26</td>\n",
       "      <td>Gorgeous 1 BR with Private Balcony</td>\n",
       "      <td>Manhattan</td>\n",
       "      <td>Apartment</td>\n",
       "      <td>NaN</td>\n",
       "      <td>Entire home/apt</td>\n",
       "      <td>10024.0</td>\n",
       "      <td>3.0</td>\n",
       "      <td>1</td>\n",
       "      <td>0</td>\n",
       "      <td>199</td>\n",
       "      <td>NaN</td>\n",
       "    </tr>\n",
       "    <tr>\n",
       "      <th>4</th>\n",
       "      <td>500</td>\n",
       "      <td>2008-06-26</td>\n",
       "      <td>Trendy Times Square Loft</td>\n",
       "      <td>Manhattan</td>\n",
       "      <td>Apartment</td>\n",
       "      <td>95.0</td>\n",
       "      <td>Private room</td>\n",
       "      <td>10036.0</td>\n",
       "      <td>3.0</td>\n",
       "      <td>1</td>\n",
       "      <td>39</td>\n",
       "      <td>549</td>\n",
       "      <td>96.0</td>\n",
       "    </tr>\n",
       "  </tbody>\n",
       "</table>\n",
       "</div>"
      ],
      "text/plain": [
       "    Host Id Host Since                                Name Neighbourhood   \\\n",
       "0   5162530        NaT     1 Bedroom in Prime Williamsburg       Brooklyn   \n",
       "1  33134899        NaT     Sunny, Private room in Bushwick       Brooklyn   \n",
       "2  39608626        NaT                Sunny Room in Harlem      Manhattan   \n",
       "3       500 2008-06-26  Gorgeous 1 BR with Private Balcony      Manhattan   \n",
       "4       500 2008-06-26            Trendy Times Square Loft      Manhattan   \n",
       "\n",
       "  Property Type  Review Scores Rating (bin)        Room Type  Zipcode  Beds  \\\n",
       "0     Apartment                         NaN  Entire home/apt  11249.0   1.0   \n",
       "1     Apartment                         NaN     Private room  11206.0   1.0   \n",
       "2     Apartment                         NaN     Private room  10032.0   1.0   \n",
       "3     Apartment                         NaN  Entire home/apt  10024.0   3.0   \n",
       "4     Apartment                        95.0     Private room  10036.0   3.0   \n",
       "\n",
       "   Number of Records  Number Of Reviews  Price  Review Scores Rating  \n",
       "0                  1                  0    145                   NaN  \n",
       "1                  1                  1     37                   NaN  \n",
       "2                  1                  1     28                   NaN  \n",
       "3                  1                  0    199                   NaN  \n",
       "4                  1                 39    549                  96.0  "
      ]
     },
     "metadata": {},
     "output_type": "display_data"
    },
    {
     "name": "stdout",
     "output_type": "stream",
     "text": [
      "\n",
      "Tipos de datos:\n"
     ]
    },
    {
     "data": {
      "text/plain": [
       "Host Id                                int64\n",
       "Host Since                    datetime64[ns]\n",
       "Name                                  object\n",
       "Neighbourhood                         object\n",
       "Property Type                         object\n",
       "Review Scores Rating (bin)           float64\n",
       "Room Type                             object\n",
       "Zipcode                              float64\n",
       "Beds                                 float64\n",
       "Number of Records                      int64\n",
       "Number Of Reviews                      int64\n",
       "Price                                  int64\n",
       "Review Scores Rating                 float64\n",
       "dtype: object"
      ]
     },
     "metadata": {},
     "output_type": "display_data"
    },
    {
     "name": "stdout",
     "output_type": "stream",
     "text": [
      "\n",
      "Valores_nulos:\n"
     ]
    },
    {
     "data": {
      "text/plain": [
       "Host Id                          0\n",
       "Host Since                       3\n",
       "Name                             0\n",
       "Neighbourhood                    0\n",
       "Property Type                    3\n",
       "Review Scores Rating (bin)    8323\n",
       "Room Type                        0\n",
       "Zipcode                        134\n",
       "Beds                            85\n",
       "Number of Records                0\n",
       "Number Of Reviews                0\n",
       "Price                            0\n",
       "Review Scores Rating          8323\n",
       "dtype: int64"
      ]
     },
     "metadata": {},
     "output_type": "display_data"
    }
   ],
   "source": [
    "def explorar_dataset(df): # Función para una visión general del dataset\n",
    "\n",
    "    print(\"Tamaño del dataset:\")# Tamaño del dataset (filas y columnas)\n",
    "    print(f\"Filas: {df.shape[0]}, Columnas: {df.shape[1]}\") # Tamaño del dataset (filas y columnas)\n",
    "    print(\"\\nPrimeras 5 filas:\") # Visualización primeras 5 filas\n",
    "    display(df.head()) \n",
    "    print(\"\\nTipos de datos:\") # Tipos de datos por columna\n",
    "    display(df.dtypes)\n",
    "    print(\"\\nValores_nulos:\") \n",
    "    display(df.isnull().sum())\n",
    "\n",
    "# Llamamos a la función para ver los datos\n",
    "explorar_dataset(df)"
   ]
  },
  {
   "cell_type": "markdown",
   "metadata": {},
   "source": [
    "Las columnas Review Scores Rating (bin) y Review Scores Rating tienen el mismo num de registros nulos. \n",
    "Vamos a ver que porcentaje es y como tratarlo a continuación:"
   ]
  },
  {
   "cell_type": "code",
   "execution_count": 29,
   "metadata": {},
   "outputs": [
    {
     "data": {
      "text/plain": [
       "Host Id                        0.000000\n",
       "Host Since                     0.009843\n",
       "Name                           0.000000\n",
       "Neighbourhood                  0.000000\n",
       "Property Type                  0.009843\n",
       "Review Scores Rating (bin)    27.308222\n",
       "Room Type                      0.000000\n",
       "Zipcode                        0.439661\n",
       "Beds                           0.278890\n",
       "Number of Records              0.000000\n",
       "Number Of Reviews              0.000000\n",
       "Price                          0.000000\n",
       "Review Scores Rating          27.308222\n",
       "dtype: float64"
      ]
     },
     "execution_count": 29,
     "metadata": {},
     "output_type": "execute_result"
    }
   ],
   "source": [
    "nulos = df.isnull().sum()/df.shape[0]*100\n",
    "nulos"
   ]
  },
  {
   "cell_type": "markdown",
   "metadata": {},
   "source": [
    "El porcentaje es de casi el 30%, es una gran cantidad de nulos, así que vamos a ver que podemos hacer con ellos."
   ]
  },
  {
   "cell_type": "code",
   "execution_count": 30,
   "metadata": {},
   "outputs": [
    {
     "data": {
      "text/html": [
       "<div>\n",
       "<style scoped>\n",
       "    .dataframe tbody tr th:only-of-type {\n",
       "        vertical-align: middle;\n",
       "    }\n",
       "\n",
       "    .dataframe tbody tr th {\n",
       "        vertical-align: top;\n",
       "    }\n",
       "\n",
       "    .dataframe thead th {\n",
       "        text-align: right;\n",
       "    }\n",
       "</style>\n",
       "<table border=\"1\" class=\"dataframe\">\n",
       "  <thead>\n",
       "    <tr style=\"text-align: right;\">\n",
       "      <th></th>\n",
       "      <th>Review Scores Rating (bin)</th>\n",
       "      <th>Review Scores Rating</th>\n",
       "    </tr>\n",
       "  </thead>\n",
       "  <tbody>\n",
       "    <tr>\n",
       "      <th>6917</th>\n",
       "      <td>60.0</td>\n",
       "      <td>60.0</td>\n",
       "    </tr>\n",
       "    <tr>\n",
       "      <th>26470</th>\n",
       "      <td>70.0</td>\n",
       "      <td>71.0</td>\n",
       "    </tr>\n",
       "    <tr>\n",
       "      <th>5317</th>\n",
       "      <td>85.0</td>\n",
       "      <td>85.0</td>\n",
       "    </tr>\n",
       "    <tr>\n",
       "      <th>19809</th>\n",
       "      <td>NaN</td>\n",
       "      <td>NaN</td>\n",
       "    </tr>\n",
       "    <tr>\n",
       "      <th>21046</th>\n",
       "      <td>85.0</td>\n",
       "      <td>85.0</td>\n",
       "    </tr>\n",
       "    <tr>\n",
       "      <th>22636</th>\n",
       "      <td>85.0</td>\n",
       "      <td>87.0</td>\n",
       "    </tr>\n",
       "    <tr>\n",
       "      <th>16582</th>\n",
       "      <td>NaN</td>\n",
       "      <td>NaN</td>\n",
       "    </tr>\n",
       "    <tr>\n",
       "      <th>23161</th>\n",
       "      <td>NaN</td>\n",
       "      <td>NaN</td>\n",
       "    </tr>\n",
       "    <tr>\n",
       "      <th>18149</th>\n",
       "      <td>NaN</td>\n",
       "      <td>NaN</td>\n",
       "    </tr>\n",
       "    <tr>\n",
       "      <th>4278</th>\n",
       "      <td>100.0</td>\n",
       "      <td>100.0</td>\n",
       "    </tr>\n",
       "    <tr>\n",
       "      <th>20153</th>\n",
       "      <td>100.0</td>\n",
       "      <td>100.0</td>\n",
       "    </tr>\n",
       "    <tr>\n",
       "      <th>28420</th>\n",
       "      <td>NaN</td>\n",
       "      <td>NaN</td>\n",
       "    </tr>\n",
       "    <tr>\n",
       "      <th>2088</th>\n",
       "      <td>70.0</td>\n",
       "      <td>70.0</td>\n",
       "    </tr>\n",
       "    <tr>\n",
       "      <th>50</th>\n",
       "      <td>85.0</td>\n",
       "      <td>86.0</td>\n",
       "    </tr>\n",
       "    <tr>\n",
       "      <th>12706</th>\n",
       "      <td>100.0</td>\n",
       "      <td>100.0</td>\n",
       "    </tr>\n",
       "    <tr>\n",
       "      <th>13400</th>\n",
       "      <td>85.0</td>\n",
       "      <td>86.0</td>\n",
       "    </tr>\n",
       "    <tr>\n",
       "      <th>29883</th>\n",
       "      <td>NaN</td>\n",
       "      <td>NaN</td>\n",
       "    </tr>\n",
       "    <tr>\n",
       "      <th>19861</th>\n",
       "      <td>80.0</td>\n",
       "      <td>80.0</td>\n",
       "    </tr>\n",
       "    <tr>\n",
       "      <th>10441</th>\n",
       "      <td>NaN</td>\n",
       "      <td>NaN</td>\n",
       "    </tr>\n",
       "    <tr>\n",
       "      <th>12894</th>\n",
       "      <td>90.0</td>\n",
       "      <td>90.0</td>\n",
       "    </tr>\n",
       "  </tbody>\n",
       "</table>\n",
       "</div>"
      ],
      "text/plain": [
       "       Review Scores Rating (bin)  Review Scores Rating\n",
       "6917                         60.0                  60.0\n",
       "26470                        70.0                  71.0\n",
       "5317                         85.0                  85.0\n",
       "19809                         NaN                   NaN\n",
       "21046                        85.0                  85.0\n",
       "22636                        85.0                  87.0\n",
       "16582                         NaN                   NaN\n",
       "23161                         NaN                   NaN\n",
       "18149                         NaN                   NaN\n",
       "4278                        100.0                 100.0\n",
       "20153                       100.0                 100.0\n",
       "28420                         NaN                   NaN\n",
       "2088                         70.0                  70.0\n",
       "50                           85.0                  86.0\n",
       "12706                       100.0                 100.0\n",
       "13400                        85.0                  86.0\n",
       "29883                         NaN                   NaN\n",
       "19861                        80.0                  80.0\n",
       "10441                         NaN                   NaN\n",
       "12894                        90.0                  90.0"
      ]
     },
     "execution_count": 30,
     "metadata": {},
     "output_type": "execute_result"
    }
   ],
   "source": [
    "df[['Review Scores Rating (bin)', 'Review Scores Rating']].sample(20)"
   ]
  },
  {
   "cell_type": "markdown",
   "metadata": {},
   "source": [
    "Vemos que los nulos en las dos columnas coinciden, la columna Review Scores Rating (bin) probablemente ha sido convertida en bins (intervalos) para agrupar las \"Reviews\" (puntuaciones) en rangos específicos. \n",
    "\n",
    "Por ejemplo, en vez de tener las puntuaciones exactas, las agrupa por categorías. \n",
    "\n",
    "Decidimos eliminar la columna Review Scores Rating y quedarnos con la columna Review Scores Rating (bin) porque nos vendría mejor para las visulizaciones."
   ]
  },
  {
   "cell_type": "code",
   "execution_count": 31,
   "metadata": {},
   "outputs": [
    {
     "name": "stdout",
     "output_type": "stream",
     "text": [
      "Index(['Host Id', 'Host Since', 'Name', 'Neighbourhood ', 'Property Type',\n",
      "       'Review Scores Rating (bin)', 'Room Type', 'Zipcode', 'Beds',\n",
      "       'Number of Records', 'Number Of Reviews', 'Price',\n",
      "       'Review Scores Rating'],\n",
      "      dtype='object')\n"
     ]
    }
   ],
   "source": [
    "print(df.columns)"
   ]
  },
  {
   "cell_type": "code",
   "execution_count": 32,
   "metadata": {},
   "outputs": [],
   "source": [
    "df.columns = df.columns.str.strip()  # Elimina espacios extra al principio y al final de los nombres\n"
   ]
  },
  {
   "cell_type": "code",
   "execution_count": 33,
   "metadata": {},
   "outputs": [],
   "source": [
    "if 'Review Scores Rating' in df.columns:\n",
    "    df = df.drop(['Review Scores Rating'], axis=1)\n",
    "else:\n",
    "    print(\"La columna 'Review Scores Rating' no existe en el DataFrame.\")\n"
   ]
  },
  {
   "cell_type": "code",
   "execution_count": 34,
   "metadata": {},
   "outputs": [
    {
     "data": {
      "text/html": [
       "<div>\n",
       "<style scoped>\n",
       "    .dataframe tbody tr th:only-of-type {\n",
       "        vertical-align: middle;\n",
       "    }\n",
       "\n",
       "    .dataframe tbody tr th {\n",
       "        vertical-align: top;\n",
       "    }\n",
       "\n",
       "    .dataframe thead th {\n",
       "        text-align: right;\n",
       "    }\n",
       "</style>\n",
       "<table border=\"1\" class=\"dataframe\">\n",
       "  <thead>\n",
       "    <tr style=\"text-align: right;\">\n",
       "      <th></th>\n",
       "      <th>Host Id</th>\n",
       "      <th>Host Since</th>\n",
       "      <th>Name</th>\n",
       "      <th>Neighbourhood</th>\n",
       "      <th>Property Type</th>\n",
       "      <th>Review Scores Rating (bin)</th>\n",
       "      <th>Room Type</th>\n",
       "      <th>Zipcode</th>\n",
       "      <th>Beds</th>\n",
       "      <th>Number of Records</th>\n",
       "      <th>Number Of Reviews</th>\n",
       "      <th>Price</th>\n",
       "    </tr>\n",
       "  </thead>\n",
       "  <tbody>\n",
       "    <tr>\n",
       "      <th>0</th>\n",
       "      <td>5162530</td>\n",
       "      <td>NaT</td>\n",
       "      <td>1 Bedroom in Prime Williamsburg</td>\n",
       "      <td>Brooklyn</td>\n",
       "      <td>Apartment</td>\n",
       "      <td>NaN</td>\n",
       "      <td>Entire home/apt</td>\n",
       "      <td>11249.0</td>\n",
       "      <td>1.0</td>\n",
       "      <td>1</td>\n",
       "      <td>0</td>\n",
       "      <td>145</td>\n",
       "    </tr>\n",
       "    <tr>\n",
       "      <th>1</th>\n",
       "      <td>33134899</td>\n",
       "      <td>NaT</td>\n",
       "      <td>Sunny, Private room in Bushwick</td>\n",
       "      <td>Brooklyn</td>\n",
       "      <td>Apartment</td>\n",
       "      <td>NaN</td>\n",
       "      <td>Private room</td>\n",
       "      <td>11206.0</td>\n",
       "      <td>1.0</td>\n",
       "      <td>1</td>\n",
       "      <td>1</td>\n",
       "      <td>37</td>\n",
       "    </tr>\n",
       "    <tr>\n",
       "      <th>2</th>\n",
       "      <td>39608626</td>\n",
       "      <td>NaT</td>\n",
       "      <td>Sunny Room in Harlem</td>\n",
       "      <td>Manhattan</td>\n",
       "      <td>Apartment</td>\n",
       "      <td>NaN</td>\n",
       "      <td>Private room</td>\n",
       "      <td>10032.0</td>\n",
       "      <td>1.0</td>\n",
       "      <td>1</td>\n",
       "      <td>1</td>\n",
       "      <td>28</td>\n",
       "    </tr>\n",
       "    <tr>\n",
       "      <th>3</th>\n",
       "      <td>500</td>\n",
       "      <td>2008-06-26</td>\n",
       "      <td>Gorgeous 1 BR with Private Balcony</td>\n",
       "      <td>Manhattan</td>\n",
       "      <td>Apartment</td>\n",
       "      <td>NaN</td>\n",
       "      <td>Entire home/apt</td>\n",
       "      <td>10024.0</td>\n",
       "      <td>3.0</td>\n",
       "      <td>1</td>\n",
       "      <td>0</td>\n",
       "      <td>199</td>\n",
       "    </tr>\n",
       "    <tr>\n",
       "      <th>4</th>\n",
       "      <td>500</td>\n",
       "      <td>2008-06-26</td>\n",
       "      <td>Trendy Times Square Loft</td>\n",
       "      <td>Manhattan</td>\n",
       "      <td>Apartment</td>\n",
       "      <td>95.0</td>\n",
       "      <td>Private room</td>\n",
       "      <td>10036.0</td>\n",
       "      <td>3.0</td>\n",
       "      <td>1</td>\n",
       "      <td>39</td>\n",
       "      <td>549</td>\n",
       "    </tr>\n",
       "  </tbody>\n",
       "</table>\n",
       "</div>"
      ],
      "text/plain": [
       "    Host Id Host Since                                Name Neighbourhood  \\\n",
       "0   5162530        NaT     1 Bedroom in Prime Williamsburg      Brooklyn   \n",
       "1  33134899        NaT     Sunny, Private room in Bushwick      Brooklyn   \n",
       "2  39608626        NaT                Sunny Room in Harlem     Manhattan   \n",
       "3       500 2008-06-26  Gorgeous 1 BR with Private Balcony     Manhattan   \n",
       "4       500 2008-06-26            Trendy Times Square Loft     Manhattan   \n",
       "\n",
       "  Property Type  Review Scores Rating (bin)        Room Type  Zipcode  Beds  \\\n",
       "0     Apartment                         NaN  Entire home/apt  11249.0   1.0   \n",
       "1     Apartment                         NaN     Private room  11206.0   1.0   \n",
       "2     Apartment                         NaN     Private room  10032.0   1.0   \n",
       "3     Apartment                         NaN  Entire home/apt  10024.0   3.0   \n",
       "4     Apartment                        95.0     Private room  10036.0   3.0   \n",
       "\n",
       "   Number of Records  Number Of Reviews  Price  \n",
       "0                  1                  0    145  \n",
       "1                  1                  1     37  \n",
       "2                  1                  1     28  \n",
       "3                  1                  0    199  \n",
       "4                  1                 39    549  "
      ]
     },
     "execution_count": 34,
     "metadata": {},
     "output_type": "execute_result"
    }
   ],
   "source": [
    "df.head()"
   ]
  },
  {
   "cell_type": "markdown",
   "metadata": {},
   "source": [
    "Ahora que hemos eliminado la columna \"duplicada\", vamos a tratar los nulos de la columna Review.\n",
    " \n",
    "Podemos imputar los nulos con 'Unknown':"
   ]
  },
  {
   "cell_type": "code",
   "execution_count": 35,
   "metadata": {},
   "outputs": [
    {
     "data": {
      "text/html": [
       "<div>\n",
       "<style scoped>\n",
       "    .dataframe tbody tr th:only-of-type {\n",
       "        vertical-align: middle;\n",
       "    }\n",
       "\n",
       "    .dataframe tbody tr th {\n",
       "        vertical-align: top;\n",
       "    }\n",
       "\n",
       "    .dataframe thead th {\n",
       "        text-align: right;\n",
       "    }\n",
       "</style>\n",
       "<table border=\"1\" class=\"dataframe\">\n",
       "  <thead>\n",
       "    <tr style=\"text-align: right;\">\n",
       "      <th></th>\n",
       "      <th>Host Id</th>\n",
       "      <th>Host Since</th>\n",
       "      <th>Name</th>\n",
       "      <th>Neighbourhood</th>\n",
       "      <th>Property Type</th>\n",
       "      <th>Review Scores Rating (bin)</th>\n",
       "      <th>Room Type</th>\n",
       "      <th>Zipcode</th>\n",
       "      <th>Beds</th>\n",
       "      <th>Number of Records</th>\n",
       "      <th>Number Of Reviews</th>\n",
       "      <th>Price</th>\n",
       "    </tr>\n",
       "  </thead>\n",
       "  <tbody>\n",
       "    <tr>\n",
       "      <th>6470</th>\n",
       "      <td>2134501</td>\n",
       "      <td>2012-04-13</td>\n",
       "      <td>Traveler's Retreat in New York City</td>\n",
       "      <td>Queens</td>\n",
       "      <td>Apartment</td>\n",
       "      <td>90.0</td>\n",
       "      <td>Private room</td>\n",
       "      <td>11102.0</td>\n",
       "      <td>1.0</td>\n",
       "      <td>1</td>\n",
       "      <td>16</td>\n",
       "      <td>60</td>\n",
       "    </tr>\n",
       "    <tr>\n",
       "      <th>1806</th>\n",
       "      <td>314562</td>\n",
       "      <td>2010-12-09</td>\n",
       "      <td>East village one bedroom apartment</td>\n",
       "      <td>Manhattan</td>\n",
       "      <td>Apartment</td>\n",
       "      <td>85.0</td>\n",
       "      <td>Entire home/apt</td>\n",
       "      <td>10009.0</td>\n",
       "      <td>2.0</td>\n",
       "      <td>1</td>\n",
       "      <td>39</td>\n",
       "      <td>130</td>\n",
       "    </tr>\n",
       "    <tr>\n",
       "      <th>20690</th>\n",
       "      <td>17153037</td>\n",
       "      <td>2014-06-23</td>\n",
       "      <td>Sunny Bushwick Brownstone</td>\n",
       "      <td>Brooklyn</td>\n",
       "      <td>Apartment</td>\n",
       "      <td>90.0</td>\n",
       "      <td>Entire home/apt</td>\n",
       "      <td>11221.0</td>\n",
       "      <td>2.0</td>\n",
       "      <td>1</td>\n",
       "      <td>13</td>\n",
       "      <td>145</td>\n",
       "    </tr>\n",
       "    <tr>\n",
       "      <th>934</th>\n",
       "      <td>146052</td>\n",
       "      <td>2010-06-16</td>\n",
       "      <td>Upper East Side 1 bedroom apartment</td>\n",
       "      <td>Manhattan</td>\n",
       "      <td>Apartment</td>\n",
       "      <td>90.0</td>\n",
       "      <td>Entire home/apt</td>\n",
       "      <td>10021.0</td>\n",
       "      <td>1.0</td>\n",
       "      <td>1</td>\n",
       "      <td>8</td>\n",
       "      <td>220</td>\n",
       "    </tr>\n",
       "    <tr>\n",
       "      <th>6821</th>\n",
       "      <td>2289652</td>\n",
       "      <td>2012-05-04</td>\n",
       "      <td>UWS, near Central Park, subway</td>\n",
       "      <td>Manhattan</td>\n",
       "      <td>Apartment</td>\n",
       "      <td>85.0</td>\n",
       "      <td>Shared room</td>\n",
       "      <td>10025.0</td>\n",
       "      <td>1.0</td>\n",
       "      <td>1</td>\n",
       "      <td>31</td>\n",
       "      <td>67</td>\n",
       "    </tr>\n",
       "    <tr>\n",
       "      <th>164</th>\n",
       "      <td>19852</td>\n",
       "      <td>2009-06-02</td>\n",
       "      <td>Lg Beautiful Garden Apt Sleeps 2</td>\n",
       "      <td>Manhattan</td>\n",
       "      <td>Apartment</td>\n",
       "      <td>95.0</td>\n",
       "      <td>Entire home/apt</td>\n",
       "      <td>10035.0</td>\n",
       "      <td>1.0</td>\n",
       "      <td>1</td>\n",
       "      <td>8</td>\n",
       "      <td>165</td>\n",
       "    </tr>\n",
       "    <tr>\n",
       "      <th>9779</th>\n",
       "      <td>3985537</td>\n",
       "      <td>2012-10-26</td>\n",
       "      <td>MUST SEE Nothing like it! Up'r East</td>\n",
       "      <td>Manhattan</td>\n",
       "      <td>Apartment</td>\n",
       "      <td>95.0</td>\n",
       "      <td>Private room</td>\n",
       "      <td>10128.0</td>\n",
       "      <td>1.0</td>\n",
       "      <td>1</td>\n",
       "      <td>104</td>\n",
       "      <td>99</td>\n",
       "    </tr>\n",
       "    <tr>\n",
       "      <th>14003</th>\n",
       "      <td>7141246</td>\n",
       "      <td>2013-06-27</td>\n",
       "      <td>PremierHome/Patio TimesSquare 8mins</td>\n",
       "      <td>Manhattan</td>\n",
       "      <td>Apartment</td>\n",
       "      <td>80.0</td>\n",
       "      <td>Entire home/apt</td>\n",
       "      <td>10016.0</td>\n",
       "      <td>4.0</td>\n",
       "      <td>1</td>\n",
       "      <td>5</td>\n",
       "      <td>475</td>\n",
       "    </tr>\n",
       "    <tr>\n",
       "      <th>25685</th>\n",
       "      <td>26415767</td>\n",
       "      <td>2015-01-20</td>\n",
       "      <td>Metro - Great Roof Deck Sleep 6</td>\n",
       "      <td>Brooklyn</td>\n",
       "      <td>Apartment</td>\n",
       "      <td>0.0</td>\n",
       "      <td>Entire home/apt</td>\n",
       "      <td>11215.0</td>\n",
       "      <td>3.0</td>\n",
       "      <td>1</td>\n",
       "      <td>0</td>\n",
       "      <td>250</td>\n",
       "    </tr>\n",
       "    <tr>\n",
       "      <th>17843</th>\n",
       "      <td>11527677</td>\n",
       "      <td>2014-01-21</td>\n",
       "      <td>Beautiful Privet Room + Back Yard</td>\n",
       "      <td>Brooklyn</td>\n",
       "      <td>Apartment</td>\n",
       "      <td>100.0</td>\n",
       "      <td>Private room</td>\n",
       "      <td>11237.0</td>\n",
       "      <td>1.0</td>\n",
       "      <td>1</td>\n",
       "      <td>5</td>\n",
       "      <td>65</td>\n",
       "    </tr>\n",
       "  </tbody>\n",
       "</table>\n",
       "</div>"
      ],
      "text/plain": [
       "        Host Id Host Since                                 Name Neighbourhood  \\\n",
       "6470    2134501 2012-04-13  Traveler's Retreat in New York City        Queens   \n",
       "1806     314562 2010-12-09   East village one bedroom apartment     Manhattan   \n",
       "20690  17153037 2014-06-23            Sunny Bushwick Brownstone      Brooklyn   \n",
       "934      146052 2010-06-16  Upper East Side 1 bedroom apartment     Manhattan   \n",
       "6821    2289652 2012-05-04       UWS, near Central Park, subway     Manhattan   \n",
       "164       19852 2009-06-02     Lg Beautiful Garden Apt Sleeps 2     Manhattan   \n",
       "9779    3985537 2012-10-26  MUST SEE Nothing like it! Up'r East     Manhattan   \n",
       "14003   7141246 2013-06-27  PremierHome/Patio TimesSquare 8mins     Manhattan   \n",
       "25685  26415767 2015-01-20      Metro - Great Roof Deck Sleep 6      Brooklyn   \n",
       "17843  11527677 2014-01-21    Beautiful Privet Room + Back Yard      Brooklyn   \n",
       "\n",
       "      Property Type  Review Scores Rating (bin)        Room Type  Zipcode  \\\n",
       "6470      Apartment                        90.0     Private room  11102.0   \n",
       "1806      Apartment                        85.0  Entire home/apt  10009.0   \n",
       "20690     Apartment                        90.0  Entire home/apt  11221.0   \n",
       "934       Apartment                        90.0  Entire home/apt  10021.0   \n",
       "6821      Apartment                        85.0      Shared room  10025.0   \n",
       "164       Apartment                        95.0  Entire home/apt  10035.0   \n",
       "9779      Apartment                        95.0     Private room  10128.0   \n",
       "14003     Apartment                        80.0  Entire home/apt  10016.0   \n",
       "25685     Apartment                         0.0  Entire home/apt  11215.0   \n",
       "17843     Apartment                       100.0     Private room  11237.0   \n",
       "\n",
       "       Beds  Number of Records  Number Of Reviews  Price  \n",
       "6470    1.0                  1                 16     60  \n",
       "1806    2.0                  1                 39    130  \n",
       "20690   2.0                  1                 13    145  \n",
       "934     1.0                  1                  8    220  \n",
       "6821    1.0                  1                 31     67  \n",
       "164     1.0                  1                  8    165  \n",
       "9779    1.0                  1                104     99  \n",
       "14003   4.0                  1                  5    475  \n",
       "25685   3.0                  1                  0    250  \n",
       "17843   1.0                  1                  5     65  "
      ]
     },
     "execution_count": 35,
     "metadata": {},
     "output_type": "execute_result"
    }
   ],
   "source": [
    "df['Review Scores Rating (bin)'] = df['Review Scores Rating (bin)'].fillna(0)\n",
    "\n",
    "df.sample(10)"
   ]
  },
  {
   "cell_type": "code",
   "execution_count": 36,
   "metadata": {},
   "outputs": [
    {
     "data": {
      "text/plain": [
       "Host Id                                int64\n",
       "Host Since                    datetime64[ns]\n",
       "Name                                  object\n",
       "Neighbourhood                         object\n",
       "Property Type                         object\n",
       "Review Scores Rating (bin)           float64\n",
       "Room Type                             object\n",
       "Zipcode                              float64\n",
       "Beds                                 float64\n",
       "Number of Records                      int64\n",
       "Number Of Reviews                      int64\n",
       "Price                                  int64\n",
       "dtype: object"
      ]
     },
     "execution_count": 36,
     "metadata": {},
     "output_type": "execute_result"
    }
   ],
   "source": [
    "df.dtypes"
   ]
  },
  {
   "cell_type": "markdown",
   "metadata": {},
   "source": [
    "Ahora queda para ver que hacer con los valores nulos de la columna Zipcode, Beds, Host Since y Property Type.\n",
    "\n",
    "- Zipcode es un tipo Float, tiene un bajo porcentaje de nulos (0.439661 %) y es un valor que podemos imputar porque podemos llegar a saber cual es el codigo postal de una cierta ciudad, es decir, tiene una relación simple con la variable Neighbourhood.\n",
    "Lo imputaremos con el KNN.\n",
    "\n",
    "- Beds es float también, es un porcentaje muy bajo de nulos (0.278890 %), podemos ver si hay una distribución simetrica y en base a eso imputarlo con la media o con la mediana.\n",
    "\n",
    "- Host Since es un tipo fecha, es la fecha de inscripcion en la plataforma de Airbnb de ese host. \n",
    "Dadoque el porcentaje de nulos en esta columna es muy bajo (0.009843 %), decidimos imputar los nulos con la MODA.\n",
    "\n",
    "- Property Type es el tipo de propiedad, es un valor categorico, como es un porcentaje bajo de nulos (0.009843 %) lo imputaremos con la MODA."
   ]
  },
  {
   "cell_type": "code",
   "execution_count": 37,
   "metadata": {},
   "outputs": [
    {
     "data": {
      "text/plain": [
       "array(['Brooklyn', 'Manhattan', 'Queens', 'Bronx', 'Staten Island'],\n",
       "      dtype=object)"
      ]
     },
     "execution_count": 37,
     "metadata": {},
     "output_type": "execute_result"
    }
   ],
   "source": [
    "# Ver valores unicos en la columna Neighbourhood:\n",
    "\n",
    "df['Neighbourhood'].unique()"
   ]
  },
  {
   "cell_type": "code",
   "execution_count": 38,
   "metadata": {},
   "outputs": [
    {
     "name": "stdout",
     "output_type": "stream",
     "text": [
      "0\n",
      "['Brooklyn' 'Manhattan' 'Queens' 'Bronx' 'Staten Island']\n"
     ]
    }
   ],
   "source": [
    "# CODIFICANDO COLUMNA NEIGHBOURHOOD:\n",
    "\n",
    "# Convertir 'Zipcode' a numérico\n",
    "df['Zipcode'] = pd.to_numeric(df['Zipcode'], errors='coerce')\n",
    "\n",
    "# Configuramos el imputador KNN para imputar tanto 'Neighbourhood' como 'Zipcode'\n",
    "knn_imputer = KNNImputer(n_neighbors=5)\n",
    "\n",
    "# Imputamos los valores nulos de 'Zipcode'\n",
    "df[['Zipcode']] = knn_imputer.fit_transform(df[['Zipcode']])\n",
    "\n",
    "# Verificar que los nulos hayan sido imputados\n",
    "print(df['Zipcode'].isna().sum())\n",
    "\n",
    "# Verificar que la columna 'Neighbourhood' no haya sido modificada\n",
    "print(df['Neighbourhood'].unique())\n"
   ]
  },
  {
   "cell_type": "code",
   "execution_count": 39,
   "metadata": {},
   "outputs": [
    {
     "name": "stdout",
     "output_type": "stream",
     "text": [
      "0\n"
     ]
    }
   ],
   "source": [
    "# Verificar si quedan nulos en 'Zipcode'\n",
    "print(df['Zipcode'].isna().sum())\n"
   ]
  },
  {
   "cell_type": "code",
   "execution_count": 40,
   "metadata": {},
   "outputs": [
    {
     "data": {
      "text/html": [
       "<div>\n",
       "<style scoped>\n",
       "    .dataframe tbody tr th:only-of-type {\n",
       "        vertical-align: middle;\n",
       "    }\n",
       "\n",
       "    .dataframe tbody tr th {\n",
       "        vertical-align: top;\n",
       "    }\n",
       "\n",
       "    .dataframe thead th {\n",
       "        text-align: right;\n",
       "    }\n",
       "</style>\n",
       "<table border=\"1\" class=\"dataframe\">\n",
       "  <thead>\n",
       "    <tr style=\"text-align: right;\">\n",
       "      <th></th>\n",
       "      <th>Host Id</th>\n",
       "      <th>Host Since</th>\n",
       "      <th>Name</th>\n",
       "      <th>Neighbourhood</th>\n",
       "      <th>Property Type</th>\n",
       "      <th>Review Scores Rating (bin)</th>\n",
       "      <th>Room Type</th>\n",
       "      <th>Zipcode</th>\n",
       "      <th>Beds</th>\n",
       "      <th>Number of Records</th>\n",
       "      <th>Number Of Reviews</th>\n",
       "      <th>Price</th>\n",
       "    </tr>\n",
       "  </thead>\n",
       "  <tbody>\n",
       "    <tr>\n",
       "      <th>3224</th>\n",
       "      <td>789975</td>\n",
       "      <td>2011-07-07</td>\n",
       "      <td>Bright Room in East Williamsburg</td>\n",
       "      <td>Brooklyn</td>\n",
       "      <td>Apartment</td>\n",
       "      <td>0.0</td>\n",
       "      <td>Private room</td>\n",
       "      <td>11207.0</td>\n",
       "      <td>1.0</td>\n",
       "      <td>1</td>\n",
       "      <td>0</td>\n",
       "      <td>70</td>\n",
       "    </tr>\n",
       "    <tr>\n",
       "      <th>6458</th>\n",
       "      <td>2125029</td>\n",
       "      <td>2012-04-12</td>\n",
       "      <td>luxury private suite by UN</td>\n",
       "      <td>Manhattan</td>\n",
       "      <td>Apartment</td>\n",
       "      <td>100.0</td>\n",
       "      <td>Private room</td>\n",
       "      <td>10016.0</td>\n",
       "      <td>2.0</td>\n",
       "      <td>1</td>\n",
       "      <td>1</td>\n",
       "      <td>200</td>\n",
       "    </tr>\n",
       "    <tr>\n",
       "      <th>28371</th>\n",
       "      <td>35500843</td>\n",
       "      <td>2015-06-10</td>\n",
       "      <td>Super Size Little Italy (sleeps 4)</td>\n",
       "      <td>Manhattan</td>\n",
       "      <td>Apartment</td>\n",
       "      <td>0.0</td>\n",
       "      <td>Private room</td>\n",
       "      <td>10013.0</td>\n",
       "      <td>2.0</td>\n",
       "      <td>1</td>\n",
       "      <td>0</td>\n",
       "      <td>200</td>\n",
       "    </tr>\n",
       "    <tr>\n",
       "      <th>21217</th>\n",
       "      <td>17984987</td>\n",
       "      <td>2014-07-11</td>\n",
       "      <td>Spacious and Sunny Apartment</td>\n",
       "      <td>Brooklyn</td>\n",
       "      <td>Apartment</td>\n",
       "      <td>100.0</td>\n",
       "      <td>Shared room</td>\n",
       "      <td>11222.0</td>\n",
       "      <td>1.0</td>\n",
       "      <td>1</td>\n",
       "      <td>2</td>\n",
       "      <td>68</td>\n",
       "    </tr>\n",
       "    <tr>\n",
       "      <th>5581</th>\n",
       "      <td>1699273</td>\n",
       "      <td>2012-02-04</td>\n",
       "      <td>TIMES SQUARE! 5TH AVE! GREAT SPOT!!</td>\n",
       "      <td>Manhattan</td>\n",
       "      <td>Apartment</td>\n",
       "      <td>95.0</td>\n",
       "      <td>Entire home/apt</td>\n",
       "      <td>10017.0</td>\n",
       "      <td>3.0</td>\n",
       "      <td>1</td>\n",
       "      <td>23</td>\n",
       "      <td>235</td>\n",
       "    </tr>\n",
       "    <tr>\n",
       "      <th>12735</th>\n",
       "      <td>6059610</td>\n",
       "      <td>2013-04-23</td>\n",
       "      <td>Light-filled Brownstone Apartment</td>\n",
       "      <td>Brooklyn</td>\n",
       "      <td>Apartment</td>\n",
       "      <td>0.0</td>\n",
       "      <td>Entire home/apt</td>\n",
       "      <td>11201.0</td>\n",
       "      <td>1.0</td>\n",
       "      <td>1</td>\n",
       "      <td>0</td>\n",
       "      <td>199</td>\n",
       "    </tr>\n",
       "    <tr>\n",
       "      <th>26788</th>\n",
       "      <td>30343837</td>\n",
       "      <td>2015-03-31</td>\n",
       "      <td>Quiet, Clean, Private Room with A/C</td>\n",
       "      <td>Manhattan</td>\n",
       "      <td>Apartment</td>\n",
       "      <td>95.0</td>\n",
       "      <td>Private room</td>\n",
       "      <td>10040.0</td>\n",
       "      <td>1.0</td>\n",
       "      <td>1</td>\n",
       "      <td>5</td>\n",
       "      <td>60</td>\n",
       "    </tr>\n",
       "    <tr>\n",
       "      <th>21738</th>\n",
       "      <td>19109608</td>\n",
       "      <td>2014-07-29</td>\n",
       "      <td>Charming 1BD- 10 min to Manhattan</td>\n",
       "      <td>Queens</td>\n",
       "      <td>Apartment</td>\n",
       "      <td>90.0</td>\n",
       "      <td>Entire home/apt</td>\n",
       "      <td>11106.0</td>\n",
       "      <td>3.0</td>\n",
       "      <td>1</td>\n",
       "      <td>16</td>\n",
       "      <td>124</td>\n",
       "    </tr>\n",
       "    <tr>\n",
       "      <th>10943</th>\n",
       "      <td>4523545</td>\n",
       "      <td>2012-12-29</td>\n",
       "      <td>Beauty! UWS on park + express stop</td>\n",
       "      <td>Manhattan</td>\n",
       "      <td>Apartment</td>\n",
       "      <td>0.0</td>\n",
       "      <td>Entire home/apt</td>\n",
       "      <td>10025.0</td>\n",
       "      <td>2.0</td>\n",
       "      <td>1</td>\n",
       "      <td>0</td>\n",
       "      <td>200</td>\n",
       "    </tr>\n",
       "    <tr>\n",
       "      <th>4730</th>\n",
       "      <td>1413098</td>\n",
       "      <td>2011-11-16</td>\n",
       "      <td>One stop from Midtown Manhattan!</td>\n",
       "      <td>Queens</td>\n",
       "      <td>Apartment</td>\n",
       "      <td>95.0</td>\n",
       "      <td>Private room</td>\n",
       "      <td>11101.0</td>\n",
       "      <td>1.0</td>\n",
       "      <td>1</td>\n",
       "      <td>114</td>\n",
       "      <td>95</td>\n",
       "    </tr>\n",
       "  </tbody>\n",
       "</table>\n",
       "</div>"
      ],
      "text/plain": [
       "        Host Id Host Since                                 Name Neighbourhood  \\\n",
       "3224     789975 2011-07-07     Bright Room in East Williamsburg      Brooklyn   \n",
       "6458    2125029 2012-04-12           luxury private suite by UN     Manhattan   \n",
       "28371  35500843 2015-06-10   Super Size Little Italy (sleeps 4)     Manhattan   \n",
       "21217  17984987 2014-07-11         Spacious and Sunny Apartment      Brooklyn   \n",
       "5581    1699273 2012-02-04  TIMES SQUARE! 5TH AVE! GREAT SPOT!!     Manhattan   \n",
       "12735   6059610 2013-04-23    Light-filled Brownstone Apartment      Brooklyn   \n",
       "26788  30343837 2015-03-31  Quiet, Clean, Private Room with A/C     Manhattan   \n",
       "21738  19109608 2014-07-29    Charming 1BD- 10 min to Manhattan        Queens   \n",
       "10943   4523545 2012-12-29   Beauty! UWS on park + express stop     Manhattan   \n",
       "4730    1413098 2011-11-16     One stop from Midtown Manhattan!        Queens   \n",
       "\n",
       "      Property Type  Review Scores Rating (bin)        Room Type  Zipcode  \\\n",
       "3224      Apartment                         0.0     Private room  11207.0   \n",
       "6458      Apartment                       100.0     Private room  10016.0   \n",
       "28371     Apartment                         0.0     Private room  10013.0   \n",
       "21217     Apartment                       100.0      Shared room  11222.0   \n",
       "5581      Apartment                        95.0  Entire home/apt  10017.0   \n",
       "12735     Apartment                         0.0  Entire home/apt  11201.0   \n",
       "26788     Apartment                        95.0     Private room  10040.0   \n",
       "21738     Apartment                        90.0  Entire home/apt  11106.0   \n",
       "10943     Apartment                         0.0  Entire home/apt  10025.0   \n",
       "4730      Apartment                        95.0     Private room  11101.0   \n",
       "\n",
       "       Beds  Number of Records  Number Of Reviews  Price  \n",
       "3224    1.0                  1                  0     70  \n",
       "6458    2.0                  1                  1    200  \n",
       "28371   2.0                  1                  0    200  \n",
       "21217   1.0                  1                  2     68  \n",
       "5581    3.0                  1                 23    235  \n",
       "12735   1.0                  1                  0    199  \n",
       "26788   1.0                  1                  5     60  \n",
       "21738   3.0                  1                 16    124  \n",
       "10943   2.0                  1                  0    200  \n",
       "4730    1.0                  1                114     95  "
      ]
     },
     "execution_count": 40,
     "metadata": {},
     "output_type": "execute_result"
    }
   ],
   "source": [
    "df.sample(10)"
   ]
  },
  {
   "cell_type": "markdown",
   "metadata": {},
   "source": [
    "Imputamos ahora los nulos de la columna Beds.\n",
    "\n",
    "Vamos a ver como es la distribución con un histograma:"
   ]
  },
  {
   "cell_type": "code",
   "execution_count": 41,
   "metadata": {},
   "outputs": [
    {
     "data": {
      "image/png": "[encoded data removed]",
      "text/plain": [
       "<Figure size 800x600 with 1 Axes>"
      ]
     },
     "metadata": {},
     "output_type": "display_data"
    }
   ],
   "source": [
    "# Histograma de la columna 'Beds':\n",
    "\n",
    "plt.figure(figsize=(8, 6))\n",
    "sns.histplot(df['Beds'], kde=True, bins=20)\n",
    "plt.title('Distribución de la columna Beds')\n",
    "plt.xlabel('Número de camas')\n",
    "plt.ylabel('Frecuencia')\n",
    "plt.show()\n"
   ]
  },
  {
   "cell_type": "markdown",
   "metadata": {},
   "source": [
    "Podemos ver que la distribución es sesgada hacia la derecha (distribución positivamente sesgada).\n",
    "\n",
    "En este caso será mejor imputar los nulos con la mediana."
   ]
  },
  {
   "cell_type": "code",
   "execution_count": 42,
   "metadata": {},
   "outputs": [
    {
     "name": "stdout",
     "output_type": "stream",
     "text": [
      "0\n"
     ]
    }
   ],
   "source": [
    "# Imputar los valores nulos con la mediana, sin usar inplace\n",
    "df['Beds'] = df['Beds'].fillna(df['Beds'].median())\n",
    "\n",
    "# Verificar que los nulos se han imputado\n",
    "print(df['Beds'].isna().sum())\n"
   ]
  },
  {
   "cell_type": "markdown",
   "metadata": {},
   "source": [
    "Vamos a tratar ahora los nulos de la columna Host Since.\n",
    "\n",
    "Los imputamos con la moda:"
   ]
  },
  {
   "cell_type": "code",
   "execution_count": 43,
   "metadata": {},
   "outputs": [
    {
     "name": "stdout",
     "output_type": "stream",
     "text": [
      "Moda de \"Host Since\": 2014-02-10 00:00:00\n"
     ]
    }
   ],
   "source": [
    "# Obtener la moda de la columna 'Host Since' (la fecha más frecuente)\n",
    "moda_host_since = df['Host Since'].mode()[0]\n",
    "\n",
    "# Mostrar la moda (la fecha más frecuente)\n",
    "print(f'Moda de \"Host Since\": {moda_host_since}')\n"
   ]
  },
  {
   "cell_type": "code",
   "execution_count": 44,
   "metadata": {},
   "outputs": [
    {
     "name": "stdout",
     "output_type": "stream",
     "text": [
      "0\n"
     ]
    }
   ],
   "source": [
    "# Imputar los valores nulos con la moda\n",
    "df['Host Since'] = df['Host Since'].fillna(moda_host_since)\n",
    "\n",
    "# Verificar que los nulos se han imputado\n",
    "print(df['Host Since'].isna().sum())\n"
   ]
  },
  {
   "cell_type": "markdown",
   "metadata": {},
   "source": [
    "Vamos a hacer lo mismo con Property Type.\n",
    "\n",
    "Es un valor categorico, vamos a imputarlo siempre con la moda."
   ]
  },
  {
   "cell_type": "code",
   "execution_count": 45,
   "metadata": {},
   "outputs": [
    {
     "name": "stdout",
     "output_type": "stream",
     "text": [
      "Moda de \"Property Type\": Apartment\n"
     ]
    }
   ],
   "source": [
    "# Obtener la moda de la columna 'Property Type' (la tipología de alojamiento más frecuente):\n",
    "moda_property_type = df['Property Type'].mode()[0]\n",
    "\n",
    "# Mostrar la moda (la fecha más frecuente)\n",
    "print(f'Moda de \"Property Type\": {moda_property_type}')\n"
   ]
  },
  {
   "cell_type": "code",
   "execution_count": 46,
   "metadata": {},
   "outputs": [
    {
     "name": "stdout",
     "output_type": "stream",
     "text": [
      "0\n"
     ]
    }
   ],
   "source": [
    "# Imputar los valores nulos con la moda\n",
    "df['Property Type'] = df['Property Type'].fillna(moda_property_type)\n",
    "\n",
    "# Verificar que los nulos se han imputado\n",
    "print(df['Property Type'].isna().sum())"
   ]
  },
  {
   "cell_type": "code",
   "execution_count": 47,
   "metadata": {},
   "outputs": [
    {
     "name": "stdout",
     "output_type": "stream",
     "text": [
      "Host Id                       0\n",
      "Host Since                    0\n",
      "Name                          0\n",
      "Neighbourhood                 0\n",
      "Property Type                 0\n",
      "Review Scores Rating (bin)    0\n",
      "Room Type                     0\n",
      "Zipcode                       0\n",
      "Beds                          0\n",
      "Number of Records             0\n",
      "Number Of Reviews             0\n",
      "Price                         0\n",
      "dtype: int64\n"
     ]
    }
   ],
   "source": [
    "# Verificar la cantidad de valores nulos por columna\n",
    "valores_nulos_encoded = df.isna().sum()\n",
    "\n",
    "# Mostrar los valores nulos por columna\n",
    "print(valores_nulos_encoded)\n"
   ]
  },
  {
   "cell_type": "code",
   "execution_count": 48,
   "metadata": {},
   "outputs": [
    {
     "name": "stdout",
     "output_type": "stream",
     "text": [
      "['Brooklyn' 'Manhattan' 'Queens' 'Bronx' 'Staten Island']\n"
     ]
    }
   ],
   "source": [
    "# Verificar que la columna 'Neighbourhood' no haya sido modificada\n",
    "print(df['Neighbourhood'].unique())"
   ]
  },
  {
   "cell_type": "code",
   "execution_count": 49,
   "metadata": {},
   "outputs": [
    {
     "name": "stdout",
     "output_type": "stream",
     "text": [
      "Neighbourhood\n",
      "Manhattan        16033\n",
      "Brooklyn         11675\n",
      "Queens            2278\n",
      "Bronx              345\n",
      "Staten Island      147\n",
      "Name: count, dtype: int64\n"
     ]
    }
   ],
   "source": [
    "# Conteo de los valores únicos en la columna 'Neighbourhood'\n",
    "conteo_barrio = df['Neighbourhood'].value_counts()\n",
    "\n",
    "# Imprimir el conteo\n",
    "print(conteo_barrio)"
   ]
  },
  {
   "cell_type": "markdown",
   "metadata": {},
   "source": [
    "Vamos a guardar el nuevo df en el archivo csv:"
   ]
  },
  {
   "cell_type": "code",
   "execution_count": 50,
   "metadata": {},
   "outputs": [],
   "source": [
    "# GUARDAR EL DATAFRAME EN CSV\n",
    "df.to_csv(\"airbnb_NY.csv\", index=False)"
   ]
  }
 ],
 "metadata": {
  "kernelspec": {
   "display_name": "base",
   "language": "python",
   "name": "python3"
  },
  "language_info": {
   "codemirror_mode": {
    "name": "ipython",
    "version": 3
   },
   "file_extension": ".py",
   "mimetype": "text/x-python",
   "name": "python",
   "nbconvert_exporter": "python",
   "pygments_lexer": "ipython3",
   "version": "3.12.4"
  }
 },
 "nbformat": 4,
 "nbformat_minor": 2
}
